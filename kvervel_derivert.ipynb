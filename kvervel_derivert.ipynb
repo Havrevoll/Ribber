{
 "cells": [
  {
   "cell_type": "code",
   "execution_count": 1,
   "id": "87b64ab6-bad8-4aaa-9ab8-663a79daa22a",
   "metadata": {},
   "outputs": [],
   "source": [
    "from sympy import symbols, init_printing, exp, log, diff, simplify, limit\n",
    "import numpy as np"
   ]
  },
  {
   "cell_type": "code",
   "execution_count": 2,
   "id": "b5dd58f2-5854-4b74-8355-3056d38df339",
   "metadata": {},
   "outputs": [],
   "source": [
    "x,y,u,v, y_hev = symbols('x y u v y_hev ')\n",
    "c1,π, ν,t =symbols('c1 π ν t', positive=True)\n",
    "k_s, u_star, u_log_max,r, hev ,u_log= symbols('k_s u_star  u_log_max r hev u_log', positive=True)\n",
    "init_printing(use_unicode=True)"
   ]
  },
  {
   "cell_type": "code",
   "execution_count": 3,
   "id": "5e8c4c39-20da-4ced-aa55-88aedfec3fb8",
   "metadata": {},
   "outputs": [],
   "source": [
    "#y_hev = y - hev\n",
    "\n",
    "u = c1*(y-hev)/(2*π*(x**2+(y-hev)**2))*(1 - exp(-(x**2+(y-hev)**2)/(4*ν*t))) * (2.5*log(y/k_s) + 8.5) * u_star/u_log_max + (2.5*log(y/k_s) + 8.5) * u_star\n",
    "v = c1*(- x)  /(2*π*(x**2+(y-hev)**2))*(1 - exp(-(x**2+(y-hev)**2)/(4*ν*t))) * (2.5*log(y/k_s) + 8.5) * u_star/u_log_max"
   ]
  },
  {
   "cell_type": "code",
   "execution_count": 4,
   "id": "20c9a842-ddb0-4052-8de8-16c4647fa7f3",
   "metadata": {},
   "outputs": [
    {
     "name": "stdout",
     "output_type": "stream",
     "text": [
      "u =  c1*em1_ledd*u_log*y_hev/(2*r*u_log_max*π) + u_log\n",
      "v =  -c1*em1_ledd*u_log*x/(2*r*u_log_max*π)\n",
      " \n",
      "dudx = -c1*du_constant1*u_log*x*y_hev*(-e_ledd*r + 4*em1_ledd*t*ν)/u_log_max\n",
      "dudy = du_constant1*u_star*(c1*e_ledd*r*u_log*y*y_hev**2/u_star + 2*c1*em1_ledd*r*t*u_log*y*ν/u_star + 5.0*c1*em1_ledd*r*t*y_hev*ν - 4*c1*em1_ledd*t*u_log*y*y_hev**2*ν/u_star + 10.0*r**2*t*u_log_max*ν*π)/(u_log_max*y)\n",
      "dvdx = c1*du_constant1*u_log*(-e_ledd*r*x**2 - 2*em1_ledd*r*t*ν + 4*em1_ledd*t*x**2*ν)/u_log_max\n",
      "dvdy = c1*du_constant1*u_star*x*(-e_ledd*r*u_log*y*y_hev/u_star - 5.0*em1_ledd*r*t*ν + 4*em1_ledd*t*u_log*y*y_hev*ν/u_star)/(u_log_max*y)\n",
      "dudt = 0\n",
      "dvdt = 0\n"
     ]
    }
   ],
   "source": [
    "e_ledd, em1_ledd, r_sq, du_constant1 = symbols('e_ledd em1_ledd r_sq du_constant1', positive=True)\n",
    "byt_ut = [(y-hev, y_hev),((x**2+y_hev**2),r),(exp((-r)/(4*t*ν)),e_ledd),(1-e_ledd,em1_ledd),\n",
    "          ((1 - exp((-x**2 - y_hev**2)/(4*t*ν))),em1_ledd),(1/(4*t*ν*π*r**2),du_constant1),((2.5*log(y/k_s) + 8.5),u_log/u_star)]\n",
    "#byt_ut = [((2.5*log(y/k_s) + 8.5),u_log)]\n",
    "print(\"u = \",u.subs(byt_ut))\n",
    "print(\"v = \",v.subs(byt_ut))\n",
    "print(\" \")\n",
    "\n",
    "print(\"dudx =\",simplify(diff(u,x)).subs(byt_ut))\n",
    "print(\"dudy =\",simplify(diff(u,y)).subs(byt_ut))\n",
    "print(\"dvdx =\",simplify(diff(v,x)).subs(byt_ut))\n",
    "print(\"dvdy =\",simplify(diff(v,y)).subs(byt_ut))\n",
    "print(\"dudt =\",simplify(diff(u.subs([(t,50)]),t)))\n",
    "print(\"dvdt =\",simplify(diff(v.subs([(t,50)]),t)))"
   ]
  },
  {
   "cell_type": "code",
   "execution_count": 5,
   "id": "3ad6a84b-a7c4-4457-abb1-814eef121d3c",
   "metadata": {},
   "outputs": [
    {
     "data": {
      "image/png": "[encoded data removed]",
      "text/latex": [
       "$\\displaystyle - \\frac{c_{1} u_{star} x \\left(1 - e^{\\frac{- x^{2} - \\left(- hev + y\\right)^{2}}{4 t ν}}\\right) \\left(2.5 \\log{\\left(\\frac{y}{k_{s}} \\right)} + 8.5\\right)}{2 u_{log max} π \\left(x^{2} + \\left(- hev + y\\right)^{2}\\right)}$"
      ],
      "text/plain": [
       "            ⎛        2             2⎞                     \n",
       "            ⎜     - x  - (-hev + y) ⎟                     \n",
       "            ⎜     ──────────────────⎟                     \n",
       "            ⎜           4⋅t⋅ν       ⎟ ⎛       ⎛y ⎞      ⎞ \n",
       "-c₁⋅uₛₜₐᵣ⋅x⋅⎝1 - ℯ                  ⎠⋅⎜2.5⋅log⎜──⎟ + 8.5⎟ \n",
       "                                      ⎝       ⎝kₛ⎠      ⎠ \n",
       "──────────────────────────────────────────────────────────\n",
       "                           ⎛ 2             2⎞             \n",
       "             2⋅u_log_max⋅π⋅⎝x  + (-hev + y) ⎠             "
      ]
     },
     "execution_count": 5,
     "metadata": {},
     "output_type": "execute_result"
    }
   ],
   "source": [
    "v"
   ]
  },
  {
   "cell_type": "code",
   "execution_count": 6,
   "id": "bed1eaa6-67f2-4011-8e40-4667806ac669",
   "metadata": {},
   "outputs": [
    {
     "data": {
      "image/png": "[encoded data removed]",
      "text/latex": [
       "$\\displaystyle - \\frac{c_{1} u_{star} x \\left(1 - e^{\\frac{- x^{2} - \\left(- hev + y\\right)^{2}}{4 t ν}}\\right) \\left(- hev + y\\right) \\left(2.5 \\log{\\left(\\frac{y}{k_{s}} \\right)} + 8.5\\right)}{u_{log max} π \\left(x^{2} + \\left(- hev + y\\right)^{2}\\right)^{2}} + \\frac{c_{1} u_{star} x \\left(- hev + y\\right) \\left(2.5 \\log{\\left(\\frac{y}{k_{s}} \\right)} + 8.5\\right) e^{\\frac{- x^{2} - \\left(- hev + y\\right)^{2}}{4 t ν}}}{4 t u_{log max} ν π \\left(x^{2} + \\left(- hev + y\\right)^{2}\\right)}$"
      ],
      "text/plain": [
       "             ⎛        2             2⎞                                        \n",
       "             ⎜     - x  - (-hev + y) ⎟                                        \n",
       "             ⎜     ──────────────────⎟                                        \n",
       "             ⎜           4⋅t⋅ν       ⎟            ⎛       ⎛y ⎞      ⎞         \n",
       "  c₁⋅uₛₜₐᵣ⋅x⋅⎝1 - ℯ                  ⎠⋅(-hev + y)⋅⎜2.5⋅log⎜──⎟ + 8.5⎟   c₁⋅uₛₜ\n",
       "                                                  ⎝       ⎝kₛ⎠      ⎠         \n",
       "- ─────────────────────────────────────────────────────────────────── + ──────\n",
       "                                                  2                           \n",
       "                                ⎛ 2             2⎞                            \n",
       "                    u_log_max⋅π⋅⎝x  + (-hev + y) ⎠                            \n",
       "\n",
       "                                        2             2\n",
       "                                     - x  - (-hev + y) \n",
       "                                     ──────────────────\n",
       "                ⎛       ⎛y ⎞      ⎞        4⋅t⋅ν       \n",
       "ₐᵣ⋅x⋅(-hev + y)⋅⎜2.5⋅log⎜──⎟ + 8.5⎟⋅ℯ                  \n",
       "                ⎝       ⎝kₛ⎠      ⎠                    \n",
       "───────────────────────────────────────────────────────\n",
       "                         ⎛ 2             2⎞            \n",
       "       4⋅t⋅u_log_max⋅ν⋅π⋅⎝x  + (-hev + y) ⎠            \n",
       "                                                       "
      ]
     },
     "execution_count": 6,
     "metadata": {},
     "output_type": "execute_result"
    }
   ],
   "source": [
    "diff(u,x)"
   ]
  },
  {
   "cell_type": "code",
   "execution_count": 7,
   "id": "447d9086-2ad7-4ffd-98bd-cd354c706f9e",
   "metadata": {},
   "outputs": [
    {
     "data": {
      "image/png": "[encoded data removed]",
      "text/latex": [
       "$\\displaystyle \\frac{c_{1} u_{star} \\left(1 - e^{\\frac{- x^{2} - \\left(- hev + y\\right)^{2}}{4 t ν}}\\right) \\left(- hev + y\\right) \\left(2 hev - 2 y\\right) \\left(2.5 \\log{\\left(\\frac{y}{k_{s}} \\right)} + 8.5\\right)}{2 u_{log max} π \\left(x^{2} + \\left(- hev + y\\right)^{2}\\right)^{2}} + \\frac{c_{1} u_{star} \\left(1 - e^{\\frac{- x^{2} - \\left(- hev + y\\right)^{2}}{4 t ν}}\\right) \\left(2.5 \\log{\\left(\\frac{y}{k_{s}} \\right)} + 8.5\\right)}{2 u_{log max} π \\left(x^{2} + \\left(- hev + y\\right)^{2}\\right)} + \\frac{1.25 c_{1} u_{star} \\left(1 - e^{\\frac{- x^{2} - \\left(- hev + y\\right)^{2}}{4 t ν}}\\right) \\left(- hev + y\\right)}{u_{log max} y π \\left(x^{2} + \\left(- hev + y\\right)^{2}\\right)} - \\frac{c_{1} u_{star} \\left(- hev + y\\right) \\left(2 hev - 2 y\\right) \\left(2.5 \\log{\\left(\\frac{y}{k_{s}} \\right)} + 8.5\\right) e^{\\frac{- x^{2} - \\left(- hev + y\\right)^{2}}{4 t ν}}}{8 t u_{log max} ν π \\left(x^{2} + \\left(- hev + y\\right)^{2}\\right)} + \\frac{2.5 u_{star}}{y}$"
      ],
      "text/plain": [
       "         ⎛        2             2⎞                                            \n",
       "         ⎜     - x  - (-hev + y) ⎟                                            \n",
       "         ⎜     ──────────────────⎟                                            \n",
       "         ⎜           4⋅t⋅ν       ⎟                          ⎛       ⎛y ⎞      \n",
       "c₁⋅uₛₜₐᵣ⋅⎝1 - ℯ                  ⎠⋅(-hev + y)⋅(2⋅hev - 2⋅y)⋅⎜2.5⋅log⎜──⎟ + 8.5\n",
       "                                                            ⎝       ⎝kₛ⎠      \n",
       "──────────────────────────────────────────────────────────────────────────────\n",
       "                                                       2                      \n",
       "                                     ⎛ 2             2⎞                       \n",
       "                       2⋅u_log_max⋅π⋅⎝x  + (-hev + y) ⎠                       \n",
       "\n",
       "             ⎛        2             2⎞                                        \n",
       "             ⎜     - x  - (-hev + y) ⎟                                     ⎛  \n",
       "             ⎜     ──────────────────⎟                                     ⎜  \n",
       "⎞            ⎜           4⋅t⋅ν       ⎟ ⎛       ⎛y ⎞      ⎞                 ⎜  \n",
       "⎟   c₁⋅uₛₜₐᵣ⋅⎝1 - ℯ                  ⎠⋅⎜2.5⋅log⎜──⎟ + 8.5⎟                 ⎜  \n",
       "⎠                                      ⎝       ⎝kₛ⎠      ⎠   1.25⋅c₁⋅uₛₜₐᵣ⋅⎝1 \n",
       "─ + ────────────────────────────────────────────────────── + ─────────────────\n",
       "                             ⎛ 2             2⎞                               \n",
       "               2⋅u_log_max⋅π⋅⎝x  + (-hev + y) ⎠                       u_log_ma\n",
       "                                                                              \n",
       "\n",
       "                                                                              \n",
       "      2             2⎞                                                        \n",
       "   - x  - (-hev + y) ⎟                                                        \n",
       "   ──────────────────⎟                                                ⎛       \n",
       "         4⋅t⋅ν       ⎟              c₁⋅uₛₜₐᵣ⋅(-hev + y)⋅(2⋅hev - 2⋅y)⋅⎜2.5⋅log\n",
       "- ℯ                  ⎠⋅(-hev + y)                                     ⎝       \n",
       "───────────────────────────────── - ──────────────────────────────────────────\n",
       "      ⎛ 2             2⎞                                                 ⎛ 2  \n",
       "x⋅y⋅π⋅⎝x  + (-hev + y) ⎠                               8⋅t⋅u_log_max⋅ν⋅π⋅⎝x  +\n",
       "                                                                              \n",
       "\n",
       "                2             2            \n",
       "             - x  - (-hev + y)             \n",
       "             ──────────────────            \n",
       "⎛y ⎞      ⎞        4⋅t⋅ν                   \n",
       "⎜──⎟ + 8.5⎟⋅ℯ                              \n",
       "⎝kₛ⎠      ⎠                       2.5⋅uₛₜₐᵣ\n",
       "─────────────────────────────── + ─────────\n",
       "           2⎞                         y    \n",
       " (-hev + y) ⎠                              \n",
       "                                           "
      ]
     },
     "execution_count": 7,
     "metadata": {},
     "output_type": "execute_result"
    }
   ],
   "source": [
    "diff(u,y)"
   ]
  },
  {
   "cell_type": "code",
   "execution_count": 8,
   "id": "c6b4689f-83bd-4b72-959a-04380c7647cd",
   "metadata": {},
   "outputs": [
    {
     "data": {
      "image/png": "[encoded data removed]",
      "text/latex": [
       "$\\displaystyle \\frac{c_{1} u_{star} x^{2} \\left(1 - e^{\\frac{- x^{2} - \\left(- hev + y\\right)^{2}}{4 t ν}}\\right) \\left(2.5 \\log{\\left(\\frac{y}{k_{s}} \\right)} + 8.5\\right)}{u_{log max} π \\left(x^{2} + \\left(- hev + y\\right)^{2}\\right)^{2}} - \\frac{c_{1} u_{star} \\left(1 - e^{\\frac{- x^{2} - \\left(- hev + y\\right)^{2}}{4 t ν}}\\right) \\left(2.5 \\log{\\left(\\frac{y}{k_{s}} \\right)} + 8.5\\right)}{2 u_{log max} π \\left(x^{2} + \\left(- hev + y\\right)^{2}\\right)} - \\frac{c_{1} u_{star} x^{2} \\left(2.5 \\log{\\left(\\frac{y}{k_{s}} \\right)} + 8.5\\right) e^{\\frac{- x^{2} - \\left(- hev + y\\right)^{2}}{4 t ν}}}{4 t u_{log max} ν π \\left(x^{2} + \\left(- hev + y\\right)^{2}\\right)}$"
      ],
      "text/plain": [
       "            ⎛        2             2⎞                                ⎛        \n",
       "            ⎜     - x  - (-hev + y) ⎟                                ⎜     - x\n",
       "            ⎜     ──────────────────⎟                                ⎜     ───\n",
       "          2 ⎜           4⋅t⋅ν       ⎟ ⎛       ⎛y ⎞      ⎞            ⎜        \n",
       "c₁⋅uₛₜₐᵣ⋅x ⋅⎝1 - ℯ                  ⎠⋅⎜2.5⋅log⎜──⎟ + 8.5⎟   c₁⋅uₛₜₐᵣ⋅⎝1 - ℯ   \n",
       "                                      ⎝       ⎝kₛ⎠      ⎠                     \n",
       "───────────────────────────────────────────────────────── - ──────────────────\n",
       "                                           2                                  \n",
       "                         ⎛ 2             2⎞                            2⋅u_log\n",
       "             u_log_max⋅π⋅⎝x  + (-hev + y) ⎠                                   \n",
       "\n",
       "2             2⎞                                                           2  \n",
       "  - (-hev + y) ⎟                                                        - x  -\n",
       "───────────────⎟                                                        ──────\n",
       "   4⋅t⋅ν       ⎟ ⎛       ⎛y ⎞      ⎞             2 ⎛       ⎛y ⎞      ⎞        \n",
       "               ⎠⋅⎜2.5⋅log⎜──⎟ + 8.5⎟   c₁⋅uₛₜₐᵣ⋅x ⋅⎜2.5⋅log⎜──⎟ + 8.5⎟⋅ℯ      \n",
       "                 ⎝       ⎝kₛ⎠      ⎠               ⎝       ⎝kₛ⎠      ⎠        \n",
       "──────────────────────────────────── - ───────────────────────────────────────\n",
       "       ⎛ 2             2⎞                                        ⎛ 2          \n",
       "_max⋅π⋅⎝x  + (-hev + y) ⎠                      4⋅t⋅u_log_max⋅ν⋅π⋅⎝x  + (-hev +\n",
       "                                                                              \n",
       "\n",
       "           2\n",
       " (-hev + y) \n",
       "────────────\n",
       "4⋅t⋅ν       \n",
       "            \n",
       "            \n",
       "────────────\n",
       "   2⎞       \n",
       " y) ⎠       \n",
       "            "
      ]
     },
     "execution_count": 8,
     "metadata": {},
     "output_type": "execute_result"
    }
   ],
   "source": [
    "diff(v,x)"
   ]
  },
  {
   "cell_type": "code",
   "execution_count": 9,
   "id": "ae4afaeb-829c-4d17-bec0-171f5bc320ec",
   "metadata": {},
   "outputs": [
    {
     "data": {
      "image/png": "[encoded data removed]",
      "text/latex": [
       "$\\displaystyle - \\frac{c_{1} u_{star} x \\left(1 - e^{\\frac{- x^{2} - \\left(- hev + y\\right)^{2}}{4 t ν}}\\right) \\left(2 hev - 2 y\\right) \\left(2.5 \\log{\\left(\\frac{y}{k_{s}} \\right)} + 8.5\\right)}{2 u_{log max} π \\left(x^{2} + \\left(- hev + y\\right)^{2}\\right)^{2}} - \\frac{1.25 c_{1} u_{star} x \\left(1 - e^{\\frac{- x^{2} - \\left(- hev + y\\right)^{2}}{4 t ν}}\\right)}{u_{log max} y π \\left(x^{2} + \\left(- hev + y\\right)^{2}\\right)} + \\frac{c_{1} u_{star} x \\left(2 hev - 2 y\\right) \\left(2.5 \\log{\\left(\\frac{y}{k_{s}} \\right)} + 8.5\\right) e^{\\frac{- x^{2} - \\left(- hev + y\\right)^{2}}{4 t ν}}}{8 t u_{log max} ν π \\left(x^{2} + \\left(- hev + y\\right)^{2}\\right)}$"
      ],
      "text/plain": [
       "             ⎛        2             2⎞                                        \n",
       "             ⎜     - x  - (-hev + y) ⎟                                        \n",
       "             ⎜     ──────────────────⎟                                        \n",
       "             ⎜           4⋅t⋅ν       ⎟               ⎛       ⎛y ⎞      ⎞      \n",
       "  c₁⋅uₛₜₐᵣ⋅x⋅⎝1 - ℯ                  ⎠⋅(2⋅hev - 2⋅y)⋅⎜2.5⋅log⎜──⎟ + 8.5⎟      \n",
       "                                                     ⎝       ⎝kₛ⎠      ⎠   1.2\n",
       "- ────────────────────────────────────────────────────────────────────── - ───\n",
       "                                                    2                         \n",
       "                                  ⎛ 2             2⎞                          \n",
       "                    2⋅u_log_max⋅π⋅⎝x  + (-hev + y) ⎠                          \n",
       "\n",
       "                                                                              \n",
       "             ⎛        2             2⎞                                        \n",
       "             ⎜     - x  - (-hev + y) ⎟                                        \n",
       "             ⎜     ──────────────────⎟                            ⎛       ⎛y ⎞\n",
       "             ⎜           4⋅t⋅ν       ⎟   c₁⋅uₛₜₐᵣ⋅x⋅(2⋅hev - 2⋅y)⋅⎜2.5⋅log⎜──⎟\n",
       "5⋅c₁⋅uₛₜₐᵣ⋅x⋅⎝1 - ℯ                  ⎠                            ⎝       ⎝kₛ⎠\n",
       "────────────────────────────────────── + ─────────────────────────────────────\n",
       "                ⎛ 2             2⎞                                       ⎛ 2  \n",
       "  u_log_max⋅y⋅π⋅⎝x  + (-hev + y) ⎠                     8⋅t⋅u_log_max⋅ν⋅π⋅⎝x  +\n",
       "                                                                              \n",
       "\n",
       "            2             2\n",
       "         - x  - (-hev + y) \n",
       "         ──────────────────\n",
       "      ⎞        4⋅t⋅ν       \n",
       " + 8.5⎟⋅ℯ                  \n",
       "      ⎠                    \n",
       "───────────────────────────\n",
       "           2⎞              \n",
       " (-hev + y) ⎠              \n",
       "                           "
      ]
     },
     "execution_count": 9,
     "metadata": {},
     "output_type": "execute_result"
    }
   ],
   "source": [
    "diff(v,y)"
   ]
  },
  {
   "cell_type": "code",
   "execution_count": 10,
   "id": "e871c75a-0cb5-4e9e-9343-8bd4cebfcbb2",
   "metadata": {},
   "outputs": [
    {
     "name": "stdout",
     "output_type": "stream",
     "text": [
      "0\n",
      "2.5*u_star/y\n"
     ]
    }
   ],
   "source": [
    "\n",
    "print(diff((2.5*log(y/k_s) + 8.5) * u_star,x))\n",
    "print(diff((2.5*log(y/k_s) + 8.5) * u_star,y))\n"
   ]
  },
  {
   "cell_type": "code",
   "execution_count": 11,
   "id": "1d86d845-81be-46a7-bf98-e4be8a74c4cf",
   "metadata": {},
   "outputs": [
    {
     "data": {
      "image/png": "[encoded data removed]",
      "text/latex": [
       "$\\displaystyle - \\frac{c_{1}}{2 r^{2} π}$"
      ],
      "text/plain": [
       " -c₁  \n",
       "──────\n",
       "   2  \n",
       "2⋅r ⋅π"
      ]
     },
     "execution_count": 11,
     "metadata": {},
     "output_type": "execute_result"
    }
   ],
   "source": [
    "limit(simplify(diff(c1/(2*π*r) * (1 - exp( -r**2/(4* ν *t))),r)),t,0)"
   ]
  },
  {
   "cell_type": "code",
   "execution_count": 18,
   "id": "3b607342-5d0d-430e-be96-b756ab73366b",
   "metadata": {},
   "outputs": [],
   "source": [
    "diff(c1/(2*π*r) * (1 - exp( -r**2/(4* ν *t))),r)"
   ]
  }
 ],
 "metadata": {
  "kernelspec": {
   "display_name": "Python 3.10.6 64-bit",
   "language": "python",
   "name": "python3"
  },
  "language_info": {
   "codemirror_mode": {
    "name": "ipython",
    "version": 3
   },
   "file_extension": ".py",
   "mimetype": "text/x-python",
   "name": "python",
   "nbconvert_exporter": "python",
   "pygments_lexer": "ipython3",
   "version": "3.10.6"
  },
  "vscode": {
   "interpreter": {
    "hash": "31f2aee4e71d21fbe5cf8b01ff0e069b9275f58929596ceb00d14d90e3e16cd6"
   }
  }
 },
 "nbformat": 4,
 "nbformat_minor": 5
}
