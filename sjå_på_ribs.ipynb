{
 "cells": [
  {
   "cell_type": "code",
   "execution_count": 1,
   "metadata": {},
   "outputs": [],
   "source": [
    "import h5py\n",
    "from pathlib import Path\n",
    "import pickle\n",
    "import numpy as np"
   ]
  },
  {
   "cell_type": "code",
   "execution_count": 2,
   "metadata": {},
   "outputs": [],
   "source": [
    "# ribs = h5py.File(\"./data/rib50_Q40_1_ribs.hdf5\")"
   ]
  },
  {
   "cell_type": "code",
   "execution_count": 3,
   "metadata": {},
   "outputs": [],
   "source": [
    "# r = np.asarray(ribs['ribs'])"
   ]
  },
  {
   "cell_type": "code",
   "execution_count": 4,
   "metadata": {},
   "outputs": [],
   "source": [
    "# r"
   ]
  },
  {
   "cell_type": "code",
   "execution_count": 5,
   "metadata": {},
   "outputs": [],
   "source": [
    "with open(\"data/rib50_Q40_1.pickle\",'rb') as f:\n",
    "    tre = pickle.load(f)"
   ]
  },
  {
   "cell_type": "code",
   "execution_count": 6,
   "metadata": {},
   "outputs": [
    {
     "data": {
      "text/plain": [
       "array([[[-10.74411023,  -1.19379003],\n",
       "        [-10.74411023,  -8.9993402 ],\n",
       "        [-60.74411023,  -8.9993402 ],\n",
       "        [-60.74411023,  -1.19379003]],\n",
       "\n",
       "       [[ 39.02775085,  -7.16274016],\n",
       "        [ 39.02775085,   0.64281001],\n",
       "        [ 89.02775085,   0.64281001],\n",
       "        [ 89.02775085,  -7.16274016]],\n",
       "\n",
       "       [[-92.28915201, -73.5558316 ],\n",
       "        [ 92.84013202, -73.5558316 ],\n",
       "        [ 92.84013202, -98.5558316 ],\n",
       "        [-92.28915201, -98.5558316 ]]])"
      ]
     },
     "execution_count": 6,
     "metadata": {},
     "output_type": "execute_result"
    }
   ],
   "source": [
    "np.asarray(tre.ribs)"
   ]
  },
  {
   "cell_type": "code",
   "execution_count": 7,
   "metadata": {},
   "outputs": [],
   "source": [
    "with h5py.File(\"data/rib50_Q40_1_ribs.hdf5\", 'w') as f:\n",
    "    f.create_dataset(\"ribs\", data=np.asarray(tre.ribs))"
   ]
  },
  {
   "cell_type": "code",
   "execution_count": null,
   "metadata": {},
   "outputs": [],
   "source": []
  }
 ],
 "metadata": {
  "kernelspec": {
   "display_name": "Python 3.8.10 64-bit",
   "language": "python",
   "name": "python3"
  },
  "language_info": {
   "codemirror_mode": {
    "name": "ipython",
    "version": 3
   },
   "file_extension": ".py",
   "mimetype": "text/x-python",
   "name": "python",
   "nbconvert_exporter": "python",
   "pygments_lexer": "ipython3",
   "version": "3.8.10"
  },
  "orig_nbformat": 4,
  "vscode": {
   "interpreter": {
    "hash": "31f2aee4e71d21fbe5cf8b01ff0e069b9275f58929596ceb00d14d90e3e16cd6"
   }
  }
 },
 "nbformat": 4,
 "nbformat_minor": 2
}
