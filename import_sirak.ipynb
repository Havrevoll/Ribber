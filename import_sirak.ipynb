{
 "cells": [
  {
   "cell_type": "code",
   "execution_count": 1,
   "metadata": {},
   "outputs": [],
   "source": [
    "import numpy as np\n",
    "from pathlib import Path\n",
    "import re\n",
    "import h5py\n",
    "\n",
    "import matplotlib.pyplot as plt\n",
    "from scipy.interpolate import griddata\n",
    "%matplotlib widget\n",
    "import matplotlib\n",
    "matplotlib.use(\"Agg\")\n"
   ]
  },
  {
   "cell_type": "code",
   "execution_count": 2,
   "metadata": {},
   "outputs": [
    {
     "name": "stdout",
     "output_type": "stream",
     "text": [
      "export_14.8sec\n",
      "export_14.6Sec\n",
      "export_14.4Sec\n",
      "export_14.2Sec\n",
      "export_15.0sec\n",
      "export_14.0Sec\n"
     ]
    }
   ],
   "source": [
    "alle = {}\n",
    "for f in Path(\"sirak/\").glob(\"export_*ec.csv\"):\n",
    "    print(f.stem)\n",
    "    alle[float(re.search(r\"(1[45]\\.[0-9])\",f.stem)[0])] = np.loadtxt(f,delimiter=\",\",skiprows=5)"
   ]
  },
  {
   "cell_type": "code",
   "execution_count": 4,
   "metadata": {},
   "outputs": [],
   "source": [
    "tider = list(alle.keys())\n",
    "tider.sort()\n",
    "xy = alle[tider[0]][:,0:2]\n",
    "        \n",
    "for t in tider:\n",
    "    alle[t] = alle[t][:,3:]\n",
    "uvw = np.zeros((6,26368,3))\n",
    "for i,t in enumerate(tider):\n",
    "    uvw[i] = alle[t]\n",
    "x,y = np.mgrid[-1:1.11:1920j,-0.055:.055:300j]"
   ]
  },
  {
   "cell_type": "code",
   "execution_count": 26,
   "metadata": {},
   "outputs": [],
   "source": [
    "xy = alle[:,0:2]\n",
    "        \n",
    "uvw = alle[:,3:]\n"
   ]
  },
  {
   "cell_type": "code",
   "execution_count": 10,
   "metadata": {},
   "outputs": [
    {
     "data": {
      "text/plain": [
       "(26368, 3)"
      ]
     },
     "execution_count": 10,
     "metadata": {},
     "output_type": "execute_result"
    }
   ],
   "source": [
    "uvw[0].shape"
   ]
  },
  {
   "cell_type": "code",
   "execution_count": 23,
   "metadata": {},
   "outputs": [],
   "source": [
    "resampled=griddata((xy), np.linalg.norm((uvw[3]-uvw[2]),axis=1),(x,y), method='nearest')\n",
    "fig,ax = plt.subplots(figsize=(1000/myDPI,100/myDPI),dpi=myDPI)\n",
    "ax.imshow(resampled.T[:,1500:],extent=(-1,1.11,-0.055,0.055),origin='lower',aspect='auto')\n",
    "plt.show()\n",
    "fig.savefig(f\"sirak/diff.png\")\n",
    "plt.close()"
   ]
  },
  {
   "cell_type": "code",
   "execution_count": 9,
   "metadata": {},
   "outputs": [],
   "source": [
    "myDPI  =150\n",
    "length = 2.11\n",
    "pts = length * 910\n",
    "for i in range(6):\n",
    "    resampled=griddata((xy), np.linalg.norm(uvw[i],axis=1),(x,y), method='nearest')\n",
    "    fig,ax = plt.subplots(figsize=(1000/myDPI,100/myDPI),dpi=myDPI)\n",
    "    ax.imshow(resampled.T,extent=(-1,1.11,-0.055,0.055),origin='lower')\n",
    "    # ax.imshow(uvw,extent=(-1,1.2,-.06,.06),origin='lower')\n",
    "    plt.show()\n",
    "    fig.savefig(f\"sirak/sirak{i}.png\")\n",
    "    plt.close()"
   ]
  },
  {
   "cell_type": "code",
   "execution_count": 7,
   "metadata": {},
   "outputs": [
    {
     "name": "stdout",
     "output_type": "stream",
     "text": [
      "Skal lagra i chirag.hdf5\n"
     ]
    }
   ],
   "source": [
    "path = \"chirag.hdf5\"\n",
    "print(f\"Skal lagra i {path}\")\n",
    "with h5py.File(path, 'w') as f:\n",
    "    f.create_dataset(\"x\", data=xy, compression=\"gzip\", compression_opts=9)\n",
    "    f.create_dataset(\"U\", data=uvw, compression=\"gzip\", compression_opts=9)\n",
    "    f.create_dataset(\"t\", data=np.asarray(tider), compression=\"gzip\", compression_opts=9)\n",
    "    f.attrs.create('I', data=I)\n",
    "    f.attrs.create('J', data=J)\n",
    "    "
   ]
  },
  {
   "cell_type": "code",
   "execution_count": null,
   "metadata": {},
   "outputs": [],
   "source": [
    "utfilnamn=Path(\"chirag.mp4\")\n",
    "slow = 1\n",
    "fps = 60\n",
    "t_min = tider[0]\n",
    "t_max = tider[-1]\n",
    "steps = (t_max - t_min) * fps\n",
    "\n",
    "\n",
    "# t_list = np.arange(t_min*fps,t_max*fps)/fps\n",
    "t_list = np.arange(t_min*fps,t_max*fps)/fps\n",
    "t_list_part = np.arange(t_min*20,t_max*20)/20\n",
    "\n",
    "# piv_range = ranges()\n",
    "hdf5_fil = Path(\"chirag.hdf5\")\n",
    "with h5py.File(hdf5_fil, 'r') as dataset:\n",
    "    (I,J)=dataset.attrs['I'],dataset.attrs['J']\n",
    "\n",
    "    Umx = np.array(dataset['Umx'])[t_min*20:t_max*20,:]\n",
    "    Umx_reshape = Umx.reshape((len(Umx),J,I))#[:,piv_range[0],piv_range[1]]\n",
    "    Vmx = np.array(dataset['Vmx'])[t_min*20:t_max*20,:]\n",
    "    Vmx_reshape = Vmx.reshape((len(Vmx),J,I))#[:,piv_range[0],piv_range[1]]\n",
    "\n",
    "    # ribs = np.array(dataset['ribs'])\n",
    "    \n",
    "    x = np.array(dataset['x'])\n",
    "    y = np.array(dataset['y'])\n",
    "\n",
    "x_reshape = x.reshape(J,I)#[piv_range]\n",
    "y_reshape = y.reshape(J,I)#[piv_range]\n",
    "        \n",
    "V_mag_reshape = np.hypot(Umx_reshape, Vmx_reshape)        \n",
    "# V_mag_reshape = np.hypot(U[2], U[3])\n",
    "V_mag_interp = interp1d(range(t_min*fps,t_max*fps,int(fps/20)), V_mag_reshape, axis=0)\n",
    "\n",
    "myDPI = 300\n",
    "\n",
    "fig, ax = plt.subplots(figsize=(1234/myDPI,1080/myDPI),dpi=myDPI)\n",
    "\n",
    "field = ax.imshow(V_mag_reshape[0,:,:], extent=[x_reshape[0,0],x_reshape[0,-1], y_reshape[-1,0], y_reshape[0,0]], interpolation='none')\n",
    "    \n",
    "ax.set_xlim([x_reshape[0,0],x_reshape[0,-1]])\n",
    "draw_rect(ax, ribs)\n",
    "\n",
    "filmstart = [datetime.datetime.now()]\n",
    "\n",
    "def nypkt(i):\n",
    "    field.set_data(V_mag_interp(i))\n",
    "    return \n",
    "\n",
    "#ax.axis('equal')\n",
    "# ani = animation.FuncAnimation(fig, nypkt, frames=np.arange(1,steps),interval=50)\n",
    "FFwriter = animation.FFMpegWriter(fps=fps)\n",
    "ani = animation.FuncAnimation(fig, nypkt, frames=np.arange(0,steps-int(fps/20)),interval=(slow*1000/(fps)), blit=False)\n",
    "# plt.show()\n",
    "\n",
    "starttid = datetime.datetime.now()\n",
    "ani.save(utfilnamn, writer=FFwriter)\n",
    "print(f\"Brukte {datetime.datetime.now()-starttid} på å lagra filmen\")\n",
    "plt.close()\n"
   ]
  }
 ],
 "metadata": {
  "kernelspec": {
   "display_name": "py312",
   "language": "python",
   "name": "python3"
  },
  "language_info": {
   "codemirror_mode": {
    "name": "ipython",
    "version": 3
   },
   "file_extension": ".py",
   "mimetype": "text/x-python",
   "name": "python",
   "nbconvert_exporter": "python",
   "pygments_lexer": "ipython3",
   "version": "3.12.0"
  }
 },
 "nbformat": 4,
 "nbformat_minor": 2
}
