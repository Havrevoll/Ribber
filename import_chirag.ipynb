{
 "cells": [
  {
   "cell_type": "code",
   "execution_count": 1,
   "metadata": {},
   "outputs": [],
   "source": [
    "import numpy as np\n",
    "from pathlib import Path\n",
    "import re\n",
    "import h5py\n"
   ]
  },
  {
   "cell_type": "code",
   "execution_count": 2,
   "metadata": {},
   "outputs": [],
   "source": [
    "alle = {}\n",
    "for f in Path(\"timeDependentVelocity/\").glob(\"*.csv\"):\n",
    "    alle[float(re.match(\"velocity([0-3]_[0-9]{4})\",f.stem)[1].replace(\"_\",\".\"))] = np.loadtxt(f,delimiter=\",\",skiprows=6)"
   ]
  },
  {
   "cell_type": "code",
   "execution_count": 3,
   "metadata": {},
   "outputs": [],
   "source": [
    "tider = list(alle.keys())\n",
    "tider.sort()\n",
    "xy = alle[tider[0]][:,0:2]\n",
    "        \n",
    "for t in tider:\n",
    "    alle[t] = alle[t][:,4:]\n",
    "uvw = np.zeros((37,266245,3))\n",
    "for i,t in enumerate(tider):\n",
    "    uvw[i] = alle[t]\n",
    "    \n",
    "x,y = np.mgrid[0:50:3800j,0:1:76j]"
   ]
  },
  {
   "cell_type": "code",
   "execution_count": 6,
   "metadata": {},
   "outputs": [
    {
     "data": {
      "text/plain": [
       "array([0.0121, 0.1121, 0.2121, 0.3121, 0.4121, 0.5121, 0.6121, 0.7121,\n",
       "       0.8121, 0.9121, 1.0121, 1.1121, 1.2121, 1.3121, 1.4121, 1.5121,\n",
       "       1.6121, 1.7121, 1.8121, 1.9121, 2.0121, 2.1121, 2.2121, 2.3121,\n",
       "       2.4121, 2.5121, 2.6121, 2.7121, 2.8121, 2.9121, 3.0121, 3.1121,\n",
       "       3.2121, 3.3121, 3.4121, 3.5121, 3.6121])"
      ]
     },
     "execution_count": 6,
     "metadata": {},
     "output_type": "execute_result"
    }
   ],
   "source": [
    "np.asarray(tider)"
   ]
  },
  {
   "cell_type": "code",
   "execution_count": 20,
   "metadata": {},
   "outputs": [
    {
     "data": {
      "text/plain": [
       "array([[    90],\n",
       "       [    91],\n",
       "       [    92],\n",
       "       ...,\n",
       "       [266242],\n",
       "       [266243],\n",
       "       [266244]])"
      ]
     },
     "execution_count": 20,
     "metadata": {},
     "output_type": "execute_result"
    }
   ],
   "source": [
    "myDPI  =150\n",
    "length = 25\n",
    "pts = length * 76\n",
    "for i in range(37):\n",
    "    resampled=griddata((xy), np.linalg.norm(uvw[i],axis=1),(x,y), method='nearest')\n",
    "    fig,ax = plt.subplots(figsize=(1920/myDPI,1080/myDPI),dpi=myDPI)\n",
    "    ax.imshow(resampled.T[:,:pts],extent=(0,length,0,1),origin='lower')\n",
    "    # plt.show()\n",
    "    fig.savefig(f\"ani/chirag{i}.png\")\n",
    "    plt.close()"
   ]
  },
  {
   "cell_type": "code",
   "execution_count": 23,
   "metadata": {},
   "outputs": [
    {
     "data": {
      "text/plain": [
       "array([[     0],\n",
       "       [     1],\n",
       "       [    36],\n",
       "       ...,\n",
       "       [126886],\n",
       "       [126904],\n",
       "       [126922]])"
      ]
     },
     "execution_count": 23,
     "metadata": {},
     "output_type": "execute_result"
    }
   ],
   "source": [
    "np.argwhere(xy[:,1] ==0)"
   ]
  },
  {
   "cell_type": "code",
   "execution_count": 27,
   "metadata": {},
   "outputs": [
    {
     "data": {
      "text/plain": [
       "0.752089024"
      ]
     },
     "execution_count": 27,
     "metadata": {},
     "output_type": "execute_result"
    }
   ],
   "source": [
    "xy[-1,0]"
   ]
  },
  {
   "cell_type": "code",
   "execution_count": 7,
   "metadata": {},
   "outputs": [
    {
     "name": "stdout",
     "output_type": "stream",
     "text": [
      "Skal lagra i chirag.hdf5\n"
     ]
    }
   ],
   "source": [
    "path = \"chirag.hdf5\"\n",
    "print(f\"Skal lagra i {path}\")\n",
    "with h5py.File(path, 'w') as f:\n",
    "    f.create_dataset(\"x\", data=xy, compression=\"gzip\", compression_opts=9)\n",
    "    f.create_dataset(\"U\", data=uvw, compression=\"gzip\", compression_opts=9)\n",
    "    f.create_dataset(\"t\", data=np.asarray(tider), compression=\"gzip\", compression_opts=9)\n",
    "    f.attrs.create('I', data=I)\n",
    "    f.attrs.create('J', data=J)\n",
    "    "
   ]
  },
  {
   "cell_type": "code",
   "execution_count": null,
   "metadata": {},
   "outputs": [],
   "source": [
    "utfilnamn=Path(\"chirag.mp4\")\n",
    "slow = 1\n",
    "fps = 60\n",
    "t_min = tider[0]\n",
    "t_max = tider[-1]\n",
    "steps = (t_max - t_min) * fps\n",
    "\n",
    "\n",
    "# t_list = np.arange(t_min*fps,t_max*fps)/fps\n",
    "t_list = np.arange(t_min*fps,t_max*fps)/fps\n",
    "t_list_part = np.arange(t_min*20,t_max*20)/20\n",
    "\n",
    "# piv_range = ranges()\n",
    "hdf5_fil = Path(\"chirag.hdf5\")\n",
    "with h5py.File(hdf5_fil, 'r') as dataset:\n",
    "    (I,J)=dataset.attrs['I'],dataset.attrs['J']\n",
    "\n",
    "    Umx = np.array(dataset['Umx'])[t_min*20:t_max*20,:]\n",
    "    Umx_reshape = Umx.reshape((len(Umx),J,I))#[:,piv_range[0],piv_range[1]]\n",
    "    Vmx = np.array(dataset['Vmx'])[t_min*20:t_max*20,:]\n",
    "    Vmx_reshape = Vmx.reshape((len(Vmx),J,I))#[:,piv_range[0],piv_range[1]]\n",
    "\n",
    "    # ribs = np.array(dataset['ribs'])\n",
    "    \n",
    "    x = np.array(dataset['x'])\n",
    "    y = np.array(dataset['y'])\n",
    "\n",
    "x_reshape = x.reshape(J,I)#[piv_range]\n",
    "y_reshape = y.reshape(J,I)#[piv_range]\n",
    "        \n",
    "V_mag_reshape = np.hypot(Umx_reshape, Vmx_reshape)        \n",
    "# V_mag_reshape = np.hypot(U[2], U[3])\n",
    "V_mag_interp = interp1d(range(t_min*fps,t_max*fps,int(fps/20)), V_mag_reshape, axis=0)\n",
    "\n",
    "myDPI = 300\n",
    "\n",
    "fig, ax = plt.subplots(figsize=(1234/myDPI,1080/myDPI),dpi=myDPI)\n",
    "\n",
    "field = ax.imshow(V_mag_reshape[0,:,:], extent=[x_reshape[0,0],x_reshape[0,-1], y_reshape[-1,0], y_reshape[0,0]], interpolation='none')\n",
    "    \n",
    "ax.set_xlim([x_reshape[0,0],x_reshape[0,-1]])\n",
    "draw_rect(ax, ribs)\n",
    "\n",
    "filmstart = [datetime.datetime.now()]\n",
    "\n",
    "def nypkt(i):\n",
    "    field.set_data(V_mag_interp(i))\n",
    "    return \n",
    "\n",
    "#ax.axis('equal')\n",
    "# ani = animation.FuncAnimation(fig, nypkt, frames=np.arange(1,steps),interval=50)\n",
    "FFwriter = animation.FFMpegWriter(fps=fps)\n",
    "ani = animation.FuncAnimation(fig, nypkt, frames=np.arange(0,steps-int(fps/20)),interval=(slow*1000/(fps)), blit=False)\n",
    "# plt.show()\n",
    "\n",
    "starttid = datetime.datetime.now()\n",
    "ani.save(utfilnamn, writer=FFwriter)\n",
    "print(f\"Brukte {datetime.datetime.now()-starttid} på å lagra filmen\")\n",
    "plt.close()\n"
   ]
  }
 ],
 "metadata": {
  "kernelspec": {
   "display_name": "py312",
   "language": "python",
   "name": "python3"
  },
  "language_info": {
   "codemirror_mode": {
    "name": "ipython",
    "version": 3
   },
   "file_extension": ".py",
   "mimetype": "text/x-python",
   "name": "python",
   "nbconvert_exporter": "python",
   "pygments_lexer": "ipython3",
   "version": "3.12.0"
  }
 },
 "nbformat": 4,
 "nbformat_minor": 2
}
