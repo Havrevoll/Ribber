{
 "cells": [
  {
   "cell_type": "code",
   "execution_count": null,
   "id": "8afae849-2b48-4c25-a22b-700e952536d4",
   "metadata": {},
   "outputs": [],
   "source": [
    "def get_reshape(dataset):\n",
    "    \"\"\"Ein metode som tek inn eit datasett og gjer alle reshapings-tinga for x og y, u og v pluss ribbelista.\n",
    "\n",
    "    Args:\n",
    "        dataset (string): filnamnet på hdf5-fila.\n",
    "\n",
    "    Returns:\n",
    "        tuple: Ein tuple med x, y, U, V (2d-arrays) og ribs (original-lista)\n",
    "    \"\"\"\n",
    " \n",
    "    x,y,Umx,Vmx,I,J,ribs = get_xyuvijribs(dataset)\n",
    "    \n",
    "    x_reshape = x.reshape((J,I))\n",
    "    y_reshape = y.reshape((J,I))\n",
    "    \n",
    "    Umx_reshape = Umx.reshape((len(Umx),J,I))\n",
    "    Vmx_reshape = Vmx.reshape((len(Vmx),J,I))\n",
    "    \n",
    "    return x_reshape, y_reshape, Umx_reshape, Vmx_reshape, ribs\n",
    "\n",
    "def get_xyuvijribs(dataset):\n",
    "    \"\"\"Ein metode som hentar ut alle dataa frå ei hdf5-fil og returnerer dei som ndarrays.\n",
    "\n",
    "    Args:\n",
    "        dataset (string): filnamnet på hdf5-fila\n",
    "\n",
    "    Returns:\n",
    "        tuple: x,y,U,V (alle som 1D-array), I,J (ints) og ribbelista\n",
    "    \"\"\"\n",
    "    with h5py.File(dataset, 'r') as f:\n",
    "        Umx = np.asarray(f['Umx'])\n",
    "        Vmx = np.asarray(f['Vmx'])\n",
    "        (I,J) = f.attrs['I'], f.attrs['J']\n",
    "        x = np.asarray(f['x'])\n",
    "        y = np.asarray(f['y'])\n",
    "        ribs = np.asarray(f['ribs'])\n",
    "    \n",
    "    return x,y,Umx,Vmx,I,J,ribs\n",
    "        \n",
    "def get_mean(dataset):\n",
    "    _,_,Umx,Vmx,I,J,_ = get_xyuvijribs(dataset)\n",
    "    \n",
    "    u_bar = np.nanmean(Umx,0).reshape((J,I))\n",
    "    v_bar = np.nanmean(Vmx,0).reshape((J,I))\n",
    "    \n",
    "    \n",
    "    return u_bar, v_bar\n",
    "    "
   ]
  }
 ],
 "metadata": {
  "kernelspec": {
   "display_name": "Python 3 (ipykernel)",
   "language": "python",
   "name": "python3"
  },
  "language_info": {
   "codemirror_mode": {
    "name": "ipython",
    "version": 3
   },
   "file_extension": ".py",
   "mimetype": "text/x-python",
   "name": "python",
   "nbconvert_exporter": "python",
   "pygments_lexer": "ipython3",
   "version": "3.10.6"
  }
 },
 "nbformat": 4,
 "nbformat_minor": 5
}
