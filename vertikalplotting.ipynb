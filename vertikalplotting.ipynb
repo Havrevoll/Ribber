{
 "cells": [
  {
   "cell_type": "code",
   "execution_count": 1,
   "id": "b38536a1-e788-42bc-bca3-a5ede7b11a47",
   "metadata": {},
   "outputs": [],
   "source": [
    "from pathlib import Path\n",
    "import matplotlib.pyplot as plt\n",
    "\n",
    "from datagenerering import generate_ribs\n",
    "plt.rcParams[\"font.family\"] = \"STIXGeneral\"\n",
    "plt.rcParams['mathtext.fontset'] = 'stix'\n",
    "from matplotlib import animation, colors\n",
    "import matplotlib as mpl\n",
    "from matplotlib.patches import Rectangle\n",
    "\n",
    "import numpy as np\n",
    "# from scipy import interpolate\n",
    "# from scipy.integrate import solve_ivp  # https://docs.scipy.org/doc/scipy/reference/generated/scipy.integrate.solve_ivp.html#r179348322575-1\n",
    "from scipy.optimize import fsolve\n",
    "import h5py\n",
    "import re\n",
    "import scipy.stats as stats\n",
    "\n",
    "from hjelpefunksjonar import ranges, draw_rect\n",
    "from rib import Rib\n",
    "from constants import ρ\n",
    "\n",
    "# from IPython.display import clear_output\n",
    "\n",
    "\n",
    "from math import ceil, floor, hypot, log, sqrt"
   ]
  },
  {
   "cell_type": "code",
   "execution_count": 2,
   "id": "f5dbf36d-f0e1-44d3-9630-824326de692b",
   "metadata": {},
   "outputs": [],
   "source": [
    "def get_reshape(dataset):\n",
    "    \"\"\"Ein metode som tek inn eit datasett og gjer alle reshapings-tinga for x og y, u og v pluss ribbelista.\n",
    "\n",
    "    Args:\n",
    "        dataset (string): filnamnet på hdf5-fila.\n",
    "\n",
    "    Returns:\n",
    "        tuple: Ein tuple med x, y, U, V (2d-arrays) og ribs (original-lista)\n",
    "    \"\"\"\n",
    " \n",
    "    x,y,Umx,Vmx,I,J,ribs = get_xyuvijribs(dataset)\n",
    "    \n",
    "    x_reshape = x.reshape((J,I))\n",
    "    y_reshape = y.reshape((J,I))\n",
    "    \n",
    "    Umx_reshape = Umx.reshape((len(Umx),J,I))\n",
    "    Vmx_reshape = Vmx.reshape((len(Vmx),J,I))\n",
    "    \n",
    "    return x_reshape, y_reshape, Umx_reshape, Vmx_reshape, ribs\n",
    "\n",
    "def get_xyuvijribs(dataset):\n",
    "    \"\"\"Ein metode som hentar ut alle dataa frå ei hdf5-fil og returnerer dei som ndarrays.\n",
    "\n",
    "    Args:\n",
    "        dataset (string): filnamnet på hdf5-fila\n",
    "\n",
    "    Returns:\n",
    "        tuple: x,y,U,V (alle som 1D-array), I,J (ints) og ribbelista\n",
    "    \"\"\"\n",
    "    with h5py.File(dataset, 'r') as f:\n",
    "        Umx = np.asarray(f['Umx'])\n",
    "        Vmx = np.asarray(f['Vmx'])\n",
    "        (I,J) = f.attrs['I'], f.attrs['J']\n",
    "        x = np.asarray(f['x'])\n",
    "        y = np.asarray(f['y'])\n",
    "        ribs = np.asarray(f['ribs'])\n",
    "    \n",
    "    return x,y,Umx,Vmx,I,J,ribs\n",
    "        \n",
    "def get_mean(dataset):\n",
    "    _,_,Umx,Vmx,I,J,_ = get_xyuvijribs(dataset)\n",
    "    \n",
    "    u_bar = np.nanmean(Umx,0).reshape((J,I))\n",
    "    v_bar = np.nanmean(Vmx,0).reshape((J,I))\n",
    "    \n",
    "    \n",
    "    return u_bar, v_bar\n",
    "    "
   ]
  },
  {
   "cell_type": "code",
   "execution_count": 5,
   "id": "8b4071b1-f3cb-4bc5-9b09-caebc829e64d",
   "metadata": {},
   "outputs": [
    {
     "name": "stdout",
     "output_type": "stream",
     "text": [
      "data/rib25_Q60_2.hdf5\n",
      "data/rib75_Q60_1.hdf5\n",
      "data/rib75_Q100_1.hdf5\n",
      "data/rib25_Q80_1.hdf5\n",
      "data/rib25_Q20_2.hdf5\n",
      "data/rib25_Q40_2.hdf5\n",
      "data/rib50_Q60_1.hdf5\n",
      "data/rib50_Q140_1.hdf5\n",
      "data/rib25_Q100_2.hdf5\n",
      "data/rib25_Q40_1.hdf5\n",
      "data/rib25_Q60_1.hdf5\n",
      "data/rib50_Q20_2.hdf5\n",
      "data/rib75_Q80_1.hdf5\n",
      "data/rib25_Q80_2.hdf5\n",
      "data/rib50_Q100_1.hdf5\n",
      "data/rib25_Q100_1.hdf5\n",
      "data/rib50_Q120_1.hdf5\n",
      "data/rib50_Q80_1.hdf5\n",
      "data/rib75_Q100_2.hdf5\n",
      "data/rib75_Q80_3.hdf5\n",
      "data/rib75_Q20_1.hdf5\n",
      "data/rib50_Q40_1.hdf5\n",
      "data/rib75_Q80_2.hdf5\n",
      "data/rib25_Q20_1.hdf5\n",
      "data/rib50_Q20_1.hdf5\n",
      "data/rib75_Q40_1.hdf5\n",
      "data/rib50_Q20_3.hdf5\n",
      "data/rib75_Q40_3.hdf5\n",
      "data/rib25_Q20_3.hdf5\n",
      "data/rib75_Q100_3.hdf5\n",
      "data/rib75_Q40_2.hdf5\n"
     ]
    }
   ],
   "source": [
    "for case in Path(\"data/\").glob(\"rib*[1-3].hdf5\"):\n",
    "    print(case)"
   ]
  },
  {
   "cell_type": "code",
   "execution_count": 7,
   "id": "3d27aeb4-64f4-4f28-abd9-34995f14e937",
   "metadata": {},
   "outputs": [
    {
     "name": "stderr",
     "output_type": "stream",
     "text": [
      "/tmp/ipykernel_383183/2094267812.py:43: RuntimeWarning: Mean of empty slice\n",
      "  u_bar = np.nanmean(Umx,0).reshape((J,I))\n",
      "/tmp/ipykernel_383183/2094267812.py:44: RuntimeWarning: Mean of empty slice\n",
      "  v_bar = np.nanmean(Vmx,0).reshape((J,I))\n"
     ]
    }
   ],
   "source": [
    "_,v_bar = get_mean(\"data/rib50_Q40_1.hdf5\")"
   ]
  },
  {
   "cell_type": "code",
   "execution_count": 8,
   "id": "fcf3df31-f386-486e-bfd8-82bc44994103",
   "metadata": {},
   "outputs": [
    {
     "data": {
      "text/plain": [
       "(127, 126)"
      ]
     },
     "execution_count": 8,
     "metadata": {},
     "output_type": "execute_result"
    }
   ],
   "source": [
    "v_bar.shape"
   ]
  },
  {
   "cell_type": "code",
   "execution_count": 10,
   "id": "b1e2ceb2-def1-4940-88d4-7e2c309d19da",
   "metadata": {},
   "outputs": [],
   "source": [
    "v_bar_utval = v_bar[:,38:107]"
   ]
  },
  {
   "cell_type": "code",
   "execution_count": null,
   "id": "5761fa21-3dd9-43ff-85db-41e73fc8b7f6",
   "metadata": {},
   "outputs": [],
   "source": []
  }
 ],
 "metadata": {
  "kernelspec": {
   "display_name": "Python 3 (ipykernel)",
   "language": "python",
   "name": "python3"
  },
  "language_info": {
   "codemirror_mode": {
    "name": "ipython",
    "version": 3
   },
   "file_extension": ".py",
   "mimetype": "text/x-python",
   "name": "python",
   "nbconvert_exporter": "python",
   "pygments_lexer": "ipython3",
   "version": "3.10.6"
  }
 },
 "nbformat": 4,
 "nbformat_minor": 5
}
