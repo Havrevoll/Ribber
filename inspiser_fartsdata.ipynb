{
 "cells": [
  {
   "cell_type": "code",
   "execution_count": 1,
   "id": "8afae849-2b48-4c25-a22b-700e952536d4",
   "metadata": {},
   "outputs": [],
   "source": [
    "def get_reshape(dataset):\n",
    "    \"\"\"Ein metode som tek inn eit datasett og gjer alle reshapings-tinga for x og y, u og v pluss ribbelista.\n",
    "\n",
    "    Args:\n",
    "        dataset (string): filnamnet på hdf5-fila.\n",
    "\n",
    "    Returns:\n",
    "        tuple: Ein tuple med x, y, U, V (2d-arrays) og ribs (original-lista)\n",
    "    \"\"\"\n",
    " \n",
    "    x,y,Umx,Vmx,I,J,ribs = get_xyuvijribs(dataset)\n",
    "    \n",
    "    x_reshape = x.reshape((J,I))\n",
    "    y_reshape = y.reshape((J,I))\n",
    "    \n",
    "    Umx_reshape = Umx.reshape((len(Umx),J,I))\n",
    "    Vmx_reshape = Vmx.reshape((len(Vmx),J,I))\n",
    "    \n",
    "    return x_reshape, y_reshape, Umx_reshape, Vmx_reshape, ribs\n",
    "\n",
    "def get_xyuvijribs(dataset):\n",
    "    \"\"\"Ein metode som hentar ut alle dataa frå ei hdf5-fil og returnerer dei som ndarrays.\n",
    "\n",
    "    Args:\n",
    "        dataset (string): filnamnet på hdf5-fila\n",
    "\n",
    "    Returns:\n",
    "        tuple: x,y,U,V (alle som 1D-array), I,J (ints) og ribbelista\n",
    "    \"\"\"\n",
    "    with h5py.File(dataset, 'r') as f:\n",
    "        Umx = np.asarray(f['Umx'])\n",
    "        Vmx = np.asarray(f['Vmx'])\n",
    "        (I,J) = f.attrs['I'], f.attrs['J']\n",
    "        x = np.asarray(f['x'])\n",
    "        y = np.asarray(f['y'])\n",
    "        ribs = np.asarray(f['ribs'])\n",
    "    \n",
    "    return x,y,Umx,Vmx,I,J,ribs\n",
    "        \n",
    "def get_mean(dataset):\n",
    "    _,_,Umx,Vmx,I,J,_ = get_xyuvijribs(dataset)\n",
    "    \n",
    "    u_bar = np.nanmean(Umx,0).reshape((J,I))\n",
    "    v_bar = np.nanmean(Vmx,0).reshape((J,I))\n",
    "    \n",
    "    \n",
    "    return u_bar, v_bar\n",
    "    "
   ]
  },
  {
   "cell_type": "code",
   "execution_count": 3,
   "id": "9b09f311-302f-414f-a093-71b138864c25",
   "metadata": {},
   "outputs": [],
   "source": [
    "x,y,u,v,ribs=get_reshape(\"data/rib50_Q40_1.hdf5\")"
   ]
  },
  {
   "cell_type": "code",
   "execution_count": 4,
   "id": "327ee9b8-8c71-449d-b956-5977f9f8dee4",
   "metadata": {},
   "outputs": [
    {
     "data": {
      "text/plain": [
       "array([-91.738167, -90.26889 , -88.799614, -87.33033 , -85.861053,\n",
       "       -84.391769, -82.922493, -81.453209, -79.983932, -78.514648,\n",
       "       -77.045372, -75.576088, -74.106812, -72.637527, -71.168251,\n",
       "       -69.698967, -68.229691, -66.760406, -65.29113 , -63.82185 ,\n",
       "       -62.35257 , -60.883289, -59.414009, -57.944729, -56.475449,\n",
       "       -55.006168, -53.536892, -52.067612, -50.598331, -49.129051,\n",
       "       -47.659771, -46.190491, -44.72121 , -43.25193 , -41.78265 ,\n",
       "       -40.31337 , -38.84409 , -37.374809, -35.905529, -34.436249,\n",
       "       -32.966969, -31.49769 , -30.02841 , -28.55913 , -27.089849,\n",
       "       -25.620569, -24.151291, -22.682011, -21.21273 , -19.74345 ,\n",
       "       -18.27417 , -16.80489 , -15.33561 , -13.86633 , -12.39705 ,\n",
       "       -10.92777 ,  -9.45849 ,  -7.98921 ,  -6.51993 ,  -5.05065 ,\n",
       "        -3.58137 ,  -2.11209 ,  -0.64281 ,   0.82647 ,   2.29575 ,\n",
       "         3.76503 ,   5.23431 ,   6.70359 ,   8.17287 ,   9.64215 ,\n",
       "        11.11143 ,  12.58071 ,  14.04999 ,  15.51927 ,  16.98855 ,\n",
       "        18.45783 ,  19.927111,  21.396391,  22.865669,  24.334949,\n",
       "        25.80423 ,  27.27351 ,  28.74279 ,  30.21207 ,  31.681351,\n",
       "        33.150631,  34.619911,  36.089191,  37.558472,  39.027752,\n",
       "        40.497028,  41.966309,  43.435589,  44.904869,  46.374149,\n",
       "        47.84343 ,  49.31271 ,  50.78199 ,  52.25127 ,  53.720551,\n",
       "        55.189831,  56.659111,  58.128391,  59.597672,  61.066952,\n",
       "        62.536232,  64.005508,  65.474792,  66.944069,  68.413353,\n",
       "        69.882629,  71.351913,  72.82119 ,  74.290474,  75.75975 ,\n",
       "        77.229027,  78.698311,  80.167587,  81.636871,  83.106148,\n",
       "        84.575432,  86.044708,  87.513992,  88.983269,  90.452553,\n",
       "        91.921829])"
      ]
     },
     "execution_count": 4,
     "metadata": {},
     "output_type": "execute_result"
    }
   ],
   "source": [
    "x[0,:]"
   ]
  },
  {
   "cell_type": "code",
   "execution_count": null,
   "id": "cbbfbbf9-dcb1-443a-bcb8-1ee7b4005b53",
   "metadata": {},
   "outputs": [],
   "source": []
  }
 ],
 "metadata": {
  "kernelspec": {
   "display_name": "Python 3.10.6 ('ola')",
   "language": "python",
   "name": "python3"
  },
  "language_info": {
   "codemirror_mode": {
    "name": "ipython",
    "version": 3
   },
   "file_extension": ".py",
   "mimetype": "text/x-python",
   "name": "python",
   "nbconvert_exporter": "python",
   "pygments_lexer": "ipython3",
   "version": "3.10.6"
  },
  "vscode": {
   "interpreter": {
    "hash": "8df5fff72f43a7a95178a74355c5ca3dbc19929e0fb5156b9fe54f3c17566992"
   }
  }
 },
 "nbformat": 4,
 "nbformat_minor": 5
}
