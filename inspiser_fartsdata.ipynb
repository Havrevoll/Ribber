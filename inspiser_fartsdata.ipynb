{
 "cells": [
  {
   "cell_type": "code",
   "execution_count": 1,
   "id": "8afae849-2b48-4c25-a22b-700e952536d4",
   "metadata": {},
   "outputs": [],
   "source": [
    "import numpy as np\n",
    "import h5py\n",
    "\n",
    "def get_reshape(dataset):\n",
    "    \"\"\"Ein metode som tek inn eit datasett og gjer alle reshapings-tinga for x og y, u og v pluss ribbelista.\n",
    "\n",
    "    Args:\n",
    "        dataset (string): filnamnet på hdf5-fila.\n",
    "\n",
    "    Returns:\n",
    "        tuple: Ein tuple med x, y, U, V (2d-arrays) og ribs (original-lista)\n",
    "    \"\"\"\n",
    " \n",
    "    x,y,Umx,Vmx,I,J,ribs = get_xyuvijribs(dataset)\n",
    "    \n",
    "    x_reshape = x.reshape((J,I))\n",
    "    y_reshape = y.reshape((J,I))\n",
    "    \n",
    "    Umx_reshape = Umx.reshape((len(Umx),J,I))\n",
    "    Vmx_reshape = Vmx.reshape((len(Vmx),J,I))\n",
    "    \n",
    "    return x_reshape, y_reshape, Umx_reshape, Vmx_reshape, ribs\n",
    "\n",
    "def get_xyuvijribs(dataset):\n",
    "    \"\"\"Ein metode som hentar ut alle dataa frå ei hdf5-fil og returnerer dei som ndarrays.\n",
    "\n",
    "    Args:\n",
    "        dataset (string): filnamnet på hdf5-fila\n",
    "\n",
    "    Returns:\n",
    "        tuple: x,y,U,V (alle som 1D-array), I,J (ints) og ribbelista\n",
    "    \"\"\"\n",
    "    with h5py.File(dataset, 'r') as f:\n",
    "        Umx = np.asarray(f['Umx'])\n",
    "        Vmx = np.asarray(f['Vmx'])\n",
    "        (I,J) = f.attrs['I'], f.attrs['J']\n",
    "        x = np.asarray(f['x'])\n",
    "        y = np.asarray(f['y'])\n",
    "        ribs = np.asarray(f['ribs'])\n",
    "    \n",
    "    return x,y,Umx,Vmx,I,J,ribs\n",
    "        \n",
    "def get_mean(dataset):\n",
    "    _,_,Umx,Vmx,I,J,_ = get_xyuvijribs(dataset)\n",
    "    \n",
    "    u_bar = np.nanmean(Umx,0).reshape((J,I))\n",
    "    v_bar = np.nanmean(Vmx,0).reshape((J,I))\n",
    "    \n",
    "    \n",
    "    return u_bar, v_bar\n",
    "    "
   ]
  },
  {
   "cell_type": "code",
   "execution_count": 2,
   "id": "9b09f311-302f-414f-a093-71b138864c25",
   "metadata": {},
   "outputs": [],
   "source": [
    "# x,y,u,v,ribs=get_reshape(\"data/rib50_Q40_1.hdf5\")\n",
    "# x[0,:]"
   ]
  },
  {
   "cell_type": "code",
   "execution_count": 3,
   "id": "cbbfbbf9-dcb1-443a-bcb8-1ee7b4005b53",
   "metadata": {},
   "outputs": [],
   "source": [
    "from datagenerering import tre_objekt\n",
    "import pickle\n",
    "import numpy as np\n",
    "import multiprocessing as mp\n"
   ]
  },
  {
   "cell_type": "code",
   "execution_count": 4,
   "id": "36aa4621",
   "metadata": {},
   "outputs": [],
   "source": [
    "with open('data/rib75_Q20_1.pickle', 'rb') as f:\n",
    "    shared_object = pickle.load(f)\n"
   ]
  },
  {
   "cell_type": "code",
   "execution_count": 5,
   "id": "9a73a5ba",
   "metadata": {},
   "outputs": [],
   "source": [
    "tre = shared_object.tre\n",
    "ein_t,ein_u = tre[0]"
   ]
  },
  {
   "cell_type": "code",
   "execution_count": 6,
   "id": "c5fa87e0",
   "metadata": {},
   "outputs": [
    {
     "data": {
      "text/plain": [
       "scipy.spatial._qhull.Delaunay"
      ]
     },
     "execution_count": 6,
     "metadata": {},
     "output_type": "execute_result"
    }
   ],
   "source": [
    "from scipy.spatial import Delaunay\n",
    "\n",
    "type(ein_t)"
   ]
  },
  {
   "cell_type": "code",
   "execution_count": null,
   "id": "c88053bd",
   "metadata": {},
   "outputs": [],
   "source": []
  },
  {
   "cell_type": "code",
   "execution_count": 7,
   "id": "636e03d4",
   "metadata": {},
   "outputs": [],
   "source": [
    "def funk(inn, shared_object):\n",
    "    t,u = shared_object.get_tri_og_U(inn)\n",
    "    print(inn, t.find_simplex([inn,0,0]))\n",
    "    return inn + int(t.find_simplex([inn,0,0]))\n",
    "\n",
    "def funk2(inn):\n",
    "    \n",
    "    return shared_object.get_tri_og_U(inn)[0].find_simplex([inn,0,0])"
   ]
  },
  {
   "cell_type": "code",
   "execution_count": 8,
   "id": "2ad9ff67",
   "metadata": {},
   "outputs": [
    {
     "name": "stdout",
     "output_type": "stream",
     "text": [
      "1 14\n"
     ]
    }
   ],
   "source": [
    "\n",
    "funk(1,shared_object)\n",
    "\n",
    "manager = mp.Manager()\n",
    "shared_object = manager.Value(tre_objekt, shared_object)\n",
    "\n"
   ]
  },
  {
   "cell_type": "code",
   "execution_count": 8,
   "id": "c23804cd",
   "metadata": {},
   "outputs": [],
   "source": [
    "input_data = [1, 2, 3, 4, 5]\n",
    "with mp.Pool(4) as p:\n",
    "    # Apply the function to the input data in parallel\n",
    "    results = p.map(funk2, input_data)"
   ]
  },
  {
   "cell_type": "code",
   "execution_count": 9,
   "id": "a5012ed9",
   "metadata": {},
   "outputs": [
    {
     "data": {
      "text/plain": [
       "[array(14, dtype=int32),\n",
       " array(108, dtype=int32),\n",
       " array(15, dtype=int32),\n",
       " array(2896, dtype=int32),\n",
       " array(3, dtype=int32)]"
      ]
     },
     "execution_count": 9,
     "metadata": {},
     "output_type": "execute_result"
    }
   ],
   "source": [
    "results"
   ]
  },
  {
   "cell_type": "code",
   "execution_count": null,
   "id": "e451e735",
   "metadata": {},
   "outputs": [],
   "source": []
  }
 ],
 "metadata": {
  "kernelspec": {
   "display_name": "ola310",
   "language": "python",
   "name": "python3"
  },
  "language_info": {
   "codemirror_mode": {
    "name": "ipython",
    "version": 3
   },
   "file_extension": ".py",
   "mimetype": "text/x-python",
   "name": "python",
   "nbconvert_exporter": "python",
   "pygments_lexer": "ipython3",
   "version": "3.10.8"
  },
  "vscode": {
   "interpreter": {
    "hash": "38270c5ae0fda3394ff2a1157ab5ae5aefe9ec0d85907856180c3076f7724e77"
   }
  }
 },
 "nbformat": 4,
 "nbformat_minor": 5
}
