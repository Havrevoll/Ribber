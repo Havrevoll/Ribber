{
 "cells": [
  {
   "cell_type": "code",
   "execution_count": 36,
   "metadata": {},
   "outputs": [],
   "source": [
    "import numpy as np\n",
    "import pickle\n",
    "import h5py\n",
    "from pathlib import Path\n",
    "import matplotlib.pyplot as plt\n",
    "from rib import Rib\n",
    "\n",
    "plt.rcParams[\"font.family\"] = \"STIXGeneral\"\n",
    "plt.rcParams['mathtext.fontset'] = 'stix'\n",
    "from matplotlib import cm\n",
    "viridis = cm.get_cmap('viridis', 12)\n",
    "from matplotlib.patches import Polygon"
   ]
  },
  {
   "cell_type": "code",
   "execution_count": 3,
   "metadata": {},
   "outputs": [],
   "source": [
    "partikkelfil = Path(\"./runs/rib50_Q40_1/RK45_RK45_1000_[0.05, 0.06]_1_1e-02_linear_16.11.22.pickle\")\n",
    "with open(partikkelfil, 'rb') as fil:\n",
    "        parts = pickle.load(fil)\n",
    "skalering = 1"
   ]
  },
  {
   "cell_type": "code",
   "execution_count": 8,
   "metadata": {},
   "outputs": [
    {
     "data": {
      "text/plain": [
       "['diameter',\n",
       " 'init_position',\n",
       " 'init_time',\n",
       " 'density',\n",
       " 'volume',\n",
       " 'mass',\n",
       " 'radius',\n",
       " 'index',\n",
       " 'atol',\n",
       " 'rtol',\n",
       " 'method',\n",
       " 'linear',\n",
       " 'lift',\n",
       " 'addedmass',\n",
       " 'resting',\n",
       " 'still',\n",
       " 'wrap_counter',\n",
       " 'wrap_max',\n",
       " 'resting_tolerance',\n",
       " 'scale',\n",
       " 'length',\n",
       " 'sti_dict',\n",
       " 'sti_list']"
      ]
     },
     "execution_count": 8,
     "metadata": {},
     "output_type": "execute_result"
    }
   ],
   "source": [
    "p = parts[0]\n",
    "[a for a in p.__dir__() if not a.startswith(\"__\")]"
   ]
  },
  {
   "cell_type": "code",
   "execution_count": 25,
   "metadata": {},
   "outputs": [
    {
     "data": {
      "text/plain": [
       "['init_time', 'final_time', 'time_usage']"
      ]
     },
     "execution_count": 25,
     "metadata": {},
     "output_type": "execute_result"
    }
   ],
   "source": [
    "sti = p.sti_dict\n",
    "[a for a in sti.keys() if not isinstance(a,int)]"
   ]
  },
  {
   "cell_type": "code",
   "execution_count": 35,
   "metadata": {},
   "outputs": [
    {
     "data": {
      "text/plain": [
       "datetime.timedelta(seconds=376, microseconds=595324)"
      ]
     },
     "execution_count": 35,
     "metadata": {},
     "output_type": "execute_result"
    }
   ],
   "source": [
    "sti['time_usage']"
   ]
  },
  {
   "cell_type": "code",
   "execution_count": 27,
   "metadata": {},
   "outputs": [],
   "source": [
    "tider = {}\n",
    "max_time = 0\n",
    "for p in parts:\n",
    "    tider[p.index] = p.sti_dict['time_usage'].seconds\n",
    "    if tider[p.index] > max_time:\n",
    "        max_time = tider[p.index]\n",
    "max_time"
   ]
  },
  {
   "cell_type": "code",
   "execution_count": 46,
   "metadata": {},
   "outputs": [
    {
     "data": {
      "text/plain": [
       "array([[ 68.08602 ,   1.24287 ,  84.000825, 255.      ],\n",
       "       [ 72.18336 ,  33.378225, 114.556455, 255.      ],\n",
       "       [ 66.84519 ,  61.78293 , 132.813435, 255.      ],\n",
       "       [ 56.114535,  87.543285, 140.100315, 255.      ],\n",
       "       [ 45.242865, 111.569385, 142.179075, 255.      ],\n",
       "       [ 36.552465, 133.307115, 141.855225, 255.      ],\n",
       "       [ 30.47556 , 154.90332 , 137.75559 , 255.      ],\n",
       "       [ 42.427665, 176.16828 , 126.60801 , 255.      ],\n",
       "       [ 81.551295, 196.58307 , 104.84376 , 255.      ],\n",
       "       [134.07288 , 212.540205,  73.472385, 255.      ],\n",
       "       [194.405115, 223.48812 ,  34.95132 , 255.      ],\n",
       "       [253.27824 , 231.070035,  36.70368 , 255.      ]])"
      ]
     },
     "execution_count": 46,
     "metadata": {},
     "output_type": "execute_result"
    }
   ],
   "source": [
    "viridis.colors * 255"
   ]
  },
  {
   "cell_type": "code",
   "execution_count": 47,
   "metadata": {},
   "outputs": [
    {
     "data": {
      "text/plain": [
       "array([253.27824 , 231.070035,  36.70368 , 255.      ])"
      ]
     },
     "execution_count": 47,
     "metadata": {},
     "output_type": "execute_result"
    }
   ],
   "source": [
    "np.asarray(viridis(0.999))*255"
   ]
  },
  {
   "cell_type": "code",
   "execution_count": null,
   "metadata": {},
   "outputs": [],
   "source": []
  }
 ],
 "metadata": {
  "kernelspec": {
   "display_name": "Python 3.8.10 64-bit",
   "language": "python",
   "name": "python3"
  },
  "language_info": {
   "codemirror_mode": {
    "name": "ipython",
    "version": 3
   },
   "file_extension": ".py",
   "mimetype": "text/x-python",
   "name": "python",
   "nbconvert_exporter": "python",
   "pygments_lexer": "ipython3",
   "version": "3.8.10"
  },
  "orig_nbformat": 4,
  "vscode": {
   "interpreter": {
    "hash": "31f2aee4e71d21fbe5cf8b01ff0e069b9275f58929596ceb00d14d90e3e16cd6"
   }
  }
 },
 "nbformat": 4,
 "nbformat_minor": 2
}
